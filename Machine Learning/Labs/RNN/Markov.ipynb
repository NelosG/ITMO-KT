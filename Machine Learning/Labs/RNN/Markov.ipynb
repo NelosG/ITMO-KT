{
 "cells": [
  {
   "cell_type": "code",
   "execution_count": 1,
   "outputs": [],
   "source": [
    "import numpy as np\n",
    "from random import choices\n",
    "from random import randrange\n"
   ],
   "metadata": {
    "collapsed": false,
    "pycharm": {
     "name": "#%%\n"
    }
   }
  },
  {
   "cell_type": "code",
   "execution_count": 2,
   "outputs": [],
   "source": [
    "def read_and_process_text(filename):\n",
    "    raw_text = open(filename).read().lower()\n",
    "    translation_table = dict.fromkeys(map(ord, '\\\"\\'()*-0123456789:;[]_`'), ' ')\n",
    "    raw_text = raw_text.translate(translation_table)\n",
    "    translation_table = dict.fromkeys(map(ord, '?!'), '.')\n",
    "    raw_text = raw_text.translate(translation_table)\n",
    "    raw_text = \" \".join(raw_text.split())\n",
    "    letters = sorted(list(set(raw_text)))\n",
    "    list_sentences = filter(None, raw_text.split(\".\"))\n",
    "    return letters, list(map(lambda x: x + \".\", list_sentences))"
   ],
   "metadata": {
    "collapsed": false,
    "pycharm": {
     "name": "#%%\n"
    }
   }
  },
  {
   "cell_type": "code",
   "execution_count": 3,
   "outputs": [],
   "source": [
    "\n",
    "def markov_chain(seq_length, list_sentences, letters):\n",
    "    table = {}\n",
    "    for sentence in list_sentences:\n",
    "        for i in range(0, len(sentence) - seq_length):\n",
    "            seq_in = sentence[i:i + seq_length]\n",
    "            seq_out = sentence[i + seq_length]\n",
    "            if not (seq_in in table):\n",
    "                cur_letters = {}\n",
    "                for ch in letters:\n",
    "                    cur_letters[ch] = 0\n",
    "                table[seq_in] = cur_letters\n",
    "            table[seq_in][seq_out] += 1\n",
    "    for seq in table:\n",
    "        tt = sum(table[seq].values())\n",
    "        for ch in table[seq]:\n",
    "            table[seq][ch] /= tt\n",
    "    return table\n"
   ],
   "metadata": {
    "collapsed": false,
    "pycharm": {
     "name": "#%%\n"
    }
   }
  },
  {
   "cell_type": "code",
   "execution_count": 4,
   "outputs": [],
   "source": [
    "def markov_gen(string, table, seq_length, letters, max_len=1000):\n",
    "    if seq_length >= len(string):\n",
    "        print(\"Cannot predict(too short init string)\")\n",
    "        return string\n",
    "    last_string = string[-seq_length:]\n",
    "    while True:\n",
    "        if not (last_string in table):\n",
    "            result = np.random.choice(letters)\n",
    "        else:\n",
    "            result = np.random.choice(letters, p=[table[last_string][ch] for ch in letters])\n",
    "        string += result[0]\n",
    "        if(result[0] == '.') or (len(string) > max_len):\n",
    "            return string\n",
    "        last_string = string[-seq_length:]\n"
   ],
   "metadata": {
    "collapsed": false,
    "pycharm": {
     "name": "#%%\n"
    }
   }
  },
  {
   "cell_type": "code",
   "execution_count": 5,
   "outputs": [],
   "source": [
    "def markov_gen_arg_max(string, table, seq_length, letters, max_len=1000):\n",
    "    if seq_length >= len(string):\n",
    "        print(\"Cannot predict(too short init string)\")\n",
    "        return string\n",
    "    last_string = string[-seq_length:]\n",
    "    while True:\n",
    "        if not (last_string in table):\n",
    "            result = np.random.choice(letters)\n",
    "        else:\n",
    "            result = letters[np.argmax([table[last_string][ch] for ch in letters])]\n",
    "        string += result\n",
    "        if(result == '.') or (len(string) > max_len):\n",
    "            return string\n",
    "        last_string = string[-seq_length:]\n"
   ],
   "metadata": {
    "collapsed": false,
    "pycharm": {
     "name": "#%%\n"
    }
   }
  },
  {
   "cell_type": "code",
   "execution_count": 6,
   "outputs": [
    {
     "name": "stdout",
     "output_type": "stream",
     "text": [
      "Total Sentences:  1630\n",
      "Total Vocab:  29\n"
     ]
    }
   ],
   "source": [
    "letters, list_sentences = read_and_process_text(\"data/alice_in_wonderland.txt\")\n",
    "print(\"Total Sentences: \", len(list_sentences))\n",
    "print(\"Total Vocab: \", len(letters))"
   ],
   "metadata": {
    "collapsed": false,
    "pycharm": {
     "name": "#%%\n"
    }
   }
  },
  {
   "cell_type": "code",
   "execution_count": 7,
   "outputs": [
    {
     "name": "stdout",
     "output_type": "stream",
     "text": [
      "[' ', ',', '.', 'a', 'b', 'c', 'd', 'e', 'f', 'g', 'h', 'i', 'j', 'k', 'l', 'm', 'n', 'o', 'p', 'q', 'r', 's', 't', 'u', 'v', 'w', 'x', 'y', 'z']\n"
     ]
    }
   ],
   "source": [
    "print(letters)"
   ],
   "metadata": {
    "collapsed": false,
    "pycharm": {
     "name": "#%%\n"
    }
   }
  },
  {
   "cell_type": "code",
   "execution_count": 8,
   "outputs": [],
   "source": [
    "seq_length = 15\n"
   ],
   "metadata": {
    "collapsed": false,
    "pycharm": {
     "name": "#%%\n"
    }
   }
  },
  {
   "cell_type": "code",
   "execution_count": 9,
   "outputs": [],
   "source": [
    "table = markov_chain(seq_length, list_sentences, letters)"
   ],
   "metadata": {
    "collapsed": false,
    "pycharm": {
     "name": "#%%\n"
    }
   }
  },
  {
   "cell_type": "code",
   "execution_count": 17,
   "outputs": [
    {
     "name": "stdout",
     "output_type": "stream",
     "text": [
      "she was close behind it when she turned the corner, but the rabbit was no longer to be seen she found herself in a long, low hall, which was lit up by a row of lamps hanging from the roof.\n"
     ]
    }
   ],
   "source": [
    "string = \"she was close behind it when she turned the corner,\"\n",
    "markov_gen_string = markov_gen(string, table, seq_length, letters)\n",
    "print(markov_gen_string)\n",
    "#  trying every door, she walked sadly down the middle, wondering how she was ever to get out again.\n"
   ],
   "metadata": {
    "collapsed": false,
    "pycharm": {
     "name": "#%%\n"
    }
   }
  },
  {
   "cell_type": "code",
   "execution_count": 15,
   "outputs": [
    {
     "name": "stdout",
     "output_type": "stream",
     "text": [
      "she was close behind it when she turned the corner, but the rabbit was no longer to be seen she found herself in a game of croquet she was playing against herself, for this curious child was very fond of pretending to be two people.\n"
     ]
    }
   ],
   "source": [
    "markov_gen_string = markov_gen_arg_max(string, table, seq_length, letters)\n",
    "print(markov_gen_string)\n"
   ],
   "metadata": {
    "collapsed": false,
    "pycharm": {
     "name": "#%%\n"
    }
   }
  },
  {
   "cell_type": "code",
   "execution_count": 19,
   "outputs": [
    {
     "name": "stdout",
     "output_type": "stream",
     "text": [
      "she was close behind it when she turned the corner uelargxdsy.\n"
     ]
    }
   ],
   "source": [
    "bad_string = \"she was close behind it when she turned the corner \"\n",
    "markov_gen_string = markov_gen_arg_max(bad_string, table, seq_length, letters)\n",
    "print(markov_gen_string)\n"
   ],
   "metadata": {
    "collapsed": false,
    "pycharm": {
     "name": "#%%\n"
    }
   }
  }
 ],
 "metadata": {
  "kernelspec": {
   "display_name": "Python 3",
   "language": "python",
   "name": "python3"
  },
  "language_info": {
   "codemirror_mode": {
    "name": "ipython",
    "version": 2
   },
   "file_extension": ".py",
   "mimetype": "text/x-python",
   "name": "python",
   "nbconvert_exporter": "python",
   "pygments_lexer": "ipython2",
   "version": "2.7.6"
  }
 },
 "nbformat": 4,
 "nbformat_minor": 0
}