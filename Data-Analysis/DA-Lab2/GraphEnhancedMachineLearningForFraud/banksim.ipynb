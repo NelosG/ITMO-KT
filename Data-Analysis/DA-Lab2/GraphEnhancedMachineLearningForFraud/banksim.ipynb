{
 "cells": [
  {
   "cell_type": "markdown",
   "metadata": {},
   "source": [
    "# Detecting Fraudulent claims in Banksim\n",
    "This notebook tries to create a supervised learning model to detect fraudulent transactions in the BankSim dataset provided by https://www.kaggle.com/ntnu-testimon/banksim1 \n",
    "\n",
    "The goal is to first create a benchmark model on the intrinsic features provided, the dataset will then be modeled as a graph using a Neo4j database to be able to apply graph theory algorithms in order of creating network features to feed into the model. \n",
    "\n",
    "### Implementation steps\n",
    "The steps for creating the model are as follows:  \n",
    "1. Preprocess data to be able to feed into predictive model\n",
    " 1. Remove rows with empty values\n",
    " 2. Normalize feature values\n",
    "2. Train supervised learning model\n",
    " 1. Split data into 5 folds, to use for cross validation\n",
    " 2. Estimate model prediction error using K-fold cross validation\n",
    " 3. Choose best performing model\n",
    " 4. Optimize hyperparameters using grid search\n",
    "3. Measure performance of final optimized model %on intrinsic features\n",
    "4. Create graph data model \n",
    "5. Apply graph algorithms to create network features\n",
    "6. Add network features to preprocessed dataset from step 1\n",
    "7. Retrain supervised learning model with additional features using same method from step 2\n",
    "8. Measure performance of model with network features and compare to metrics from step 3\n",
    "9. Quantify performance gains"
   ]
  },
  {
   "cell_type": "markdown",
   "metadata": {},
   "source": [
    "## Data Exploration\n",
    "This section will provide some basic exploration of the dataset in question"
   ]
  },
  {
   "cell_type": "code",
   "execution_count": 1,
   "metadata": {
    "collapsed": true
   },
   "outputs": [],
   "source": [
    "import numpy as np\n",
    "import pandas as pd\n",
    "%matplotlib inline"
   ]
  },
  {
   "cell_type": "code",
   "execution_count": 2,
   "metadata": {},
   "outputs": [
    {
     "data": {
      "text/plain": "   step       customer  age gender zipcodeOri       merchant zipMerchant  \\\n0     0  'C1093826151'  '4'    'M'    '28007'   'M348934600'     '28007'   \n1     0   'C352968107'  '2'    'M'    '28007'   'M348934600'     '28007'   \n2     0  'C2054744914'  '4'    'F'    '28007'  'M1823072687'     '28007'   \n3     0  'C1760612790'  '3'    'M'    '28007'   'M348934600'     '28007'   \n4     0   'C757503768'  '5'    'M'    '28007'   'M348934600'     '28007'   \n\n              category  amount  fraud  \n0  'es_transportation'    4.55      0  \n1  'es_transportation'   39.68      0  \n2  'es_transportation'   26.89      0  \n3  'es_transportation'   17.25      0  \n4  'es_transportation'   35.72      0  ",
      "text/html": "<div>\n<style scoped>\n    .dataframe tbody tr th:only-of-type {\n        vertical-align: middle;\n    }\n\n    .dataframe tbody tr th {\n        vertical-align: top;\n    }\n\n    .dataframe thead th {\n        text-align: right;\n    }\n</style>\n<table border=\"1\" class=\"dataframe\">\n  <thead>\n    <tr style=\"text-align: right;\">\n      <th></th>\n      <th>step</th>\n      <th>customer</th>\n      <th>age</th>\n      <th>gender</th>\n      <th>zipcodeOri</th>\n      <th>merchant</th>\n      <th>zipMerchant</th>\n      <th>category</th>\n      <th>amount</th>\n      <th>fraud</th>\n    </tr>\n  </thead>\n  <tbody>\n    <tr>\n      <th>0</th>\n      <td>0</td>\n      <td>'C1093826151'</td>\n      <td>'4'</td>\n      <td>'M'</td>\n      <td>'28007'</td>\n      <td>'M348934600'</td>\n      <td>'28007'</td>\n      <td>'es_transportation'</td>\n      <td>4.55</td>\n      <td>0</td>\n    </tr>\n    <tr>\n      <th>1</th>\n      <td>0</td>\n      <td>'C352968107'</td>\n      <td>'2'</td>\n      <td>'M'</td>\n      <td>'28007'</td>\n      <td>'M348934600'</td>\n      <td>'28007'</td>\n      <td>'es_transportation'</td>\n      <td>39.68</td>\n      <td>0</td>\n    </tr>\n    <tr>\n      <th>2</th>\n      <td>0</td>\n      <td>'C2054744914'</td>\n      <td>'4'</td>\n      <td>'F'</td>\n      <td>'28007'</td>\n      <td>'M1823072687'</td>\n      <td>'28007'</td>\n      <td>'es_transportation'</td>\n      <td>26.89</td>\n      <td>0</td>\n    </tr>\n    <tr>\n      <th>3</th>\n      <td>0</td>\n      <td>'C1760612790'</td>\n      <td>'3'</td>\n      <td>'M'</td>\n      <td>'28007'</td>\n      <td>'M348934600'</td>\n      <td>'28007'</td>\n      <td>'es_transportation'</td>\n      <td>17.25</td>\n      <td>0</td>\n    </tr>\n    <tr>\n      <th>4</th>\n      <td>0</td>\n      <td>'C757503768'</td>\n      <td>'5'</td>\n      <td>'M'</td>\n      <td>'28007'</td>\n      <td>'M348934600'</td>\n      <td>'28007'</td>\n      <td>'es_transportation'</td>\n      <td>35.72</td>\n      <td>0</td>\n    </tr>\n  </tbody>\n</table>\n</div>"
     },
     "execution_count": 2,
     "metadata": {},
     "output_type": "execute_result"
    }
   ],
   "source": [
    "df = pd.read_csv(\"./data/bs140513_032310.csv\")\n",
    "df.head()"
   ]
  },
  {
   "cell_type": "markdown",
   "metadata": {},
   "source": [
    "As seen above, the data consists of 10 fields, 9 input features and one label noting if the datapoint is fraudulent or not\n",
    "\n",
    "### Number of unique values\n",
    "Exploring how many unique values there are for each feature"
   ]
  },
  {
   "cell_type": "code",
   "execution_count": 3,
   "metadata": {},
   "outputs": [
    {
     "name": "stdout",
     "output_type": "stream",
     "text": [
      "---------- Number of unique values per feature ----------\n",
      " |step: 180|  |customer: 4112|  |age: 8|  |gender: 4|  |zipcodeOri: 1|  |merchant: 50|  |zipMerchant: 1|  |category: 15|  |amount: 23767|  |fraud: 2| \n"
     ]
    }
   ],
   "source": [
    "unique_print_str =  \"\"\n",
    "for column in df:\n",
    "    unique_print_str += \" |{}: {}| \".format(column, df[column].unique().size)\n",
    "print('---------- Number of unique values per feature ----------')\n",
    "print(unique_print_str)"
   ]
  },
  {
   "cell_type": "markdown",
   "metadata": {},
   "source": [
    "As seen above, the zipcodeOri and zipMerchant features contain only one unique value. \n",
    "\n",
    "### Amount of fraudulent nodes"
   ]
  },
  {
   "cell_type": "code",
   "execution_count": 4,
   "metadata": {},
   "outputs": [
    {
     "name": "stdout",
     "output_type": "stream",
     "text": [
      "The total number of datapoints are 594643\n",
      "The number of non-fraudulent datapoints are 587443, equal to 98.79 % of the dataset\n",
      "The number of fraudulent datapoints are 7200, equal to 1.21 % of the dataset\n"
     ]
    }
   ],
   "source": [
    "total = df.shape[0]\n",
    "normal = df[df.fraud == 0].step.count()\n",
    "fraudulent = total - normal\n",
    "\n",
    "print(\"The total number of datapoints are {}\".format(total))\n",
    "print(\"The number of non-fraudulent datapoints are {}, equal to {} % of the dataset\".format(normal, round(100 *normal/total, 2)))\n",
    "print(\"The number of fraudulent datapoints are {}, equal to {} % of the dataset\".format(fraudulent, round(100 *fraudulent/total,2)))\n"
   ]
  },
  {
   "cell_type": "code",
   "execution_count": 5,
   "metadata": {},
   "outputs": [
    {
     "data": {
      "text/plain": "   step       customer  age gender zipcodeOri       merchant zipMerchant  \\\n0     0  'C1093826151'  '4'    'M'    '28007'   'M348934600'     '28007'   \n1     0   'C352968107'  '2'    'M'    '28007'   'M348934600'     '28007'   \n2     0  'C2054744914'  '4'    'F'    '28007'  'M1823072687'     '28007'   \n3     0  'C1760612790'  '3'    'M'    '28007'   'M348934600'     '28007'   \n4     0   'C757503768'  '5'    'M'    '28007'   'M348934600'     '28007'   \n\n              category  amount  \n0  'es_transportation'    4.55  \n1  'es_transportation'   39.68  \n2  'es_transportation'   26.89  \n3  'es_transportation'   17.25  \n4  'es_transportation'   35.72  ",
      "text/html": "<div>\n<style scoped>\n    .dataframe tbody tr th:only-of-type {\n        vertical-align: middle;\n    }\n\n    .dataframe tbody tr th {\n        vertical-align: top;\n    }\n\n    .dataframe thead th {\n        text-align: right;\n    }\n</style>\n<table border=\"1\" class=\"dataframe\">\n  <thead>\n    <tr style=\"text-align: right;\">\n      <th></th>\n      <th>step</th>\n      <th>customer</th>\n      <th>age</th>\n      <th>gender</th>\n      <th>zipcodeOri</th>\n      <th>merchant</th>\n      <th>zipMerchant</th>\n      <th>category</th>\n      <th>amount</th>\n    </tr>\n  </thead>\n  <tbody>\n    <tr>\n      <th>0</th>\n      <td>0</td>\n      <td>'C1093826151'</td>\n      <td>'4'</td>\n      <td>'M'</td>\n      <td>'28007'</td>\n      <td>'M348934600'</td>\n      <td>'28007'</td>\n      <td>'es_transportation'</td>\n      <td>4.55</td>\n    </tr>\n    <tr>\n      <th>1</th>\n      <td>0</td>\n      <td>'C352968107'</td>\n      <td>'2'</td>\n      <td>'M'</td>\n      <td>'28007'</td>\n      <td>'M348934600'</td>\n      <td>'28007'</td>\n      <td>'es_transportation'</td>\n      <td>39.68</td>\n    </tr>\n    <tr>\n      <th>2</th>\n      <td>0</td>\n      <td>'C2054744914'</td>\n      <td>'4'</td>\n      <td>'F'</td>\n      <td>'28007'</td>\n      <td>'M1823072687'</td>\n      <td>'28007'</td>\n      <td>'es_transportation'</td>\n      <td>26.89</td>\n    </tr>\n    <tr>\n      <th>3</th>\n      <td>0</td>\n      <td>'C1760612790'</td>\n      <td>'3'</td>\n      <td>'M'</td>\n      <td>'28007'</td>\n      <td>'M348934600'</td>\n      <td>'28007'</td>\n      <td>'es_transportation'</td>\n      <td>17.25</td>\n    </tr>\n    <tr>\n      <th>4</th>\n      <td>0</td>\n      <td>'C757503768'</td>\n      <td>'5'</td>\n      <td>'M'</td>\n      <td>'28007'</td>\n      <td>'M348934600'</td>\n      <td>'28007'</td>\n      <td>'es_transportation'</td>\n      <td>35.72</td>\n    </tr>\n  </tbody>\n</table>\n</div>"
     },
     "execution_count": 5,
     "metadata": {},
     "output_type": "execute_result"
    }
   ],
   "source": [
    "# split the features and labels\n",
    "label = df.fraud\n",
    "features = df.drop('fraud', axis = 1)\n",
    "features.head()"
   ]
  },
  {
   "cell_type": "markdown",
   "metadata": {},
   "source": [
    "## Preprocessing\n",
    "When some basic data exploring has been done, the data needs to be preprocessed to be able to be used as input features of the supervised learning models. \n",
    "### Removing empty values and non-usable features\n",
    "As a first preprocessing step, empty values in the dataset should be handled"
   ]
  },
  {
   "cell_type": "code",
   "execution_count": 6,
   "metadata": {},
   "outputs": [
    {
     "data": {
      "text/plain": "step           0\ncustomer       0\nage            0\ngender         0\nzipcodeOri     0\nmerchant       0\nzipMerchant    0\ncategory       0\namount         0\nfraud          0\ndtype: int64"
     },
     "execution_count": 6,
     "metadata": {},
     "output_type": "execute_result"
    }
   ],
   "source": [
    "# check if empty values...\n",
    "df.isnull().sum()"
   ]
  },
  {
   "cell_type": "markdown",
   "metadata": {},
   "source": [
    "As the dataset does not contain any empty values, no rows will be removed from the dataset. \n",
    "\n",
    "Secondly, the features step, zipcodeOri, zipMerchant and customer will be removed. The zip codes are removed since they only contain one unique value. The customer so the model won't overfit on the customer name but to be able to learn to predict even new customers. The step is removed since this model won't .."
   ]
  },
  {
   "cell_type": "code",
   "execution_count": 7,
   "metadata": {},
   "outputs": [
    {
     "data": {
      "text/plain": "   age gender       merchant             category  amount\n0  '4'    'M'   'M348934600'  'es_transportation'    4.55\n1  '2'    'M'   'M348934600'  'es_transportation'   39.68\n2  '4'    'F'  'M1823072687'  'es_transportation'   26.89\n3  '3'    'M'   'M348934600'  'es_transportation'   17.25\n4  '5'    'M'   'M348934600'  'es_transportation'   35.72",
      "text/html": "<div>\n<style scoped>\n    .dataframe tbody tr th:only-of-type {\n        vertical-align: middle;\n    }\n\n    .dataframe tbody tr th {\n        vertical-align: top;\n    }\n\n    .dataframe thead th {\n        text-align: right;\n    }\n</style>\n<table border=\"1\" class=\"dataframe\">\n  <thead>\n    <tr style=\"text-align: right;\">\n      <th></th>\n      <th>age</th>\n      <th>gender</th>\n      <th>merchant</th>\n      <th>category</th>\n      <th>amount</th>\n    </tr>\n  </thead>\n  <tbody>\n    <tr>\n      <th>0</th>\n      <td>'4'</td>\n      <td>'M'</td>\n      <td>'M348934600'</td>\n      <td>'es_transportation'</td>\n      <td>4.55</td>\n    </tr>\n    <tr>\n      <th>1</th>\n      <td>'2'</td>\n      <td>'M'</td>\n      <td>'M348934600'</td>\n      <td>'es_transportation'</td>\n      <td>39.68</td>\n    </tr>\n    <tr>\n      <th>2</th>\n      <td>'4'</td>\n      <td>'F'</td>\n      <td>'M1823072687'</td>\n      <td>'es_transportation'</td>\n      <td>26.89</td>\n    </tr>\n    <tr>\n      <th>3</th>\n      <td>'3'</td>\n      <td>'M'</td>\n      <td>'M348934600'</td>\n      <td>'es_transportation'</td>\n      <td>17.25</td>\n    </tr>\n    <tr>\n      <th>4</th>\n      <td>'5'</td>\n      <td>'M'</td>\n      <td>'M348934600'</td>\n      <td>'es_transportation'</td>\n      <td>35.72</td>\n    </tr>\n  </tbody>\n</table>\n</div>"
     },
     "execution_count": 7,
     "metadata": {},
     "output_type": "execute_result"
    }
   ],
   "source": [
    "features =  features.drop(['step','zipcodeOri', 'zipMerchant', 'customer'], axis = 1)\n",
    "features.head()"
   ]
  },
  {
   "cell_type": "markdown",
   "metadata": {},
   "source": [
    "### Normalizing Numerical Features "
   ]
  },
  {
   "cell_type": "code",
   "execution_count": 8,
   "metadata": {},
   "outputs": [
    {
     "data": {
      "text/plain": "   age gender       merchant             category    amount\n0  '4'    'M'   'M348934600'  'es_transportation'  0.000546\n1  '2'    'M'   'M348934600'  'es_transportation'  0.004764\n2  '4'    'F'  'M1823072687'  'es_transportation'  0.003228\n3  '3'    'M'   'M348934600'  'es_transportation'  0.002071\n4  '5'    'M'   'M348934600'  'es_transportation'  0.004288",
      "text/html": "<div>\n<style scoped>\n    .dataframe tbody tr th:only-of-type {\n        vertical-align: middle;\n    }\n\n    .dataframe tbody tr th {\n        vertical-align: top;\n    }\n\n    .dataframe thead th {\n        text-align: right;\n    }\n</style>\n<table border=\"1\" class=\"dataframe\">\n  <thead>\n    <tr style=\"text-align: right;\">\n      <th></th>\n      <th>age</th>\n      <th>gender</th>\n      <th>merchant</th>\n      <th>category</th>\n      <th>amount</th>\n    </tr>\n  </thead>\n  <tbody>\n    <tr>\n      <th>0</th>\n      <td>'4'</td>\n      <td>'M'</td>\n      <td>'M348934600'</td>\n      <td>'es_transportation'</td>\n      <td>0.000546</td>\n    </tr>\n    <tr>\n      <th>1</th>\n      <td>'2'</td>\n      <td>'M'</td>\n      <td>'M348934600'</td>\n      <td>'es_transportation'</td>\n      <td>0.004764</td>\n    </tr>\n    <tr>\n      <th>2</th>\n      <td>'4'</td>\n      <td>'F'</td>\n      <td>'M1823072687'</td>\n      <td>'es_transportation'</td>\n      <td>0.003228</td>\n    </tr>\n    <tr>\n      <th>3</th>\n      <td>'3'</td>\n      <td>'M'</td>\n      <td>'M348934600'</td>\n      <td>'es_transportation'</td>\n      <td>0.002071</td>\n    </tr>\n    <tr>\n      <th>4</th>\n      <td>'5'</td>\n      <td>'M'</td>\n      <td>'M348934600'</td>\n      <td>'es_transportation'</td>\n      <td>0.004288</td>\n    </tr>\n  </tbody>\n</table>\n</div>"
     },
     "execution_count": 8,
     "metadata": {},
     "output_type": "execute_result"
    }
   ],
   "source": [
    "from sklearn.preprocessing import MinMaxScaler\n",
    "\n",
    "# Initialize a scaler, then apply it to the features\n",
    "scaler = MinMaxScaler()\n",
    "\n",
    "df[['amount', 'fraud']] = scaler.fit_transform(df[['amount', 'fraud']])\n",
    "features.amount = df.amount\n",
    "\n",
    "# Show an example of a record with scaling applied\n",
    "features.head()"
   ]
  },
  {
   "cell_type": "markdown",
   "metadata": {},
   "source": [
    "### Converting categorical values using one hot encoding"
   ]
  },
  {
   "cell_type": "code",
   "execution_count": 9,
   "metadata": {
    "collapsed": true
   },
   "outputs": [],
   "source": [
    "features_final = pd.get_dummies(features)"
   ]
  },
  {
   "cell_type": "code",
   "execution_count": 10,
   "metadata": {},
   "outputs": [
    {
     "data": {
      "text/plain": "     amount  age_'0'  age_'1'  age_'2'  age_'3'  age_'4'  age_'5'  age_'6'  \\\n0  0.000546        0        0        0        0        1        0        0   \n1  0.004764        0        0        1        0        0        0        0   \n2  0.003228        0        0        0        0        1        0        0   \n3  0.002071        0        0        0        1        0        0        0   \n4  0.004288        0        0        0        0        0        1        0   \n\n   age_'U'  gender_'E'  ...  category_'es_home'  category_'es_hotelservices'  \\\n0        0           0  ...                   0                            0   \n1        0           0  ...                   0                            0   \n2        0           0  ...                   0                            0   \n3        0           0  ...                   0                            0   \n4        0           0  ...                   0                            0   \n\n   category_'es_hyper'  category_'es_leisure'  category_'es_otherservices'  \\\n0                    0                      0                            0   \n1                    0                      0                            0   \n2                    0                      0                            0   \n3                    0                      0                            0   \n4                    0                      0                            0   \n\n   category_'es_sportsandtoys'  category_'es_tech'  \\\n0                            0                   0   \n1                            0                   0   \n2                            0                   0   \n3                            0                   0   \n4                            0                   0   \n\n   category_'es_transportation'  category_'es_travel'  \\\n0                             1                     0   \n1                             1                     0   \n2                             1                     0   \n3                             1                     0   \n4                             1                     0   \n\n   category_'es_wellnessandbeauty'  \n0                                0  \n1                                0  \n2                                0  \n3                                0  \n4                                0  \n\n[5 rows x 78 columns]",
      "text/html": "<div>\n<style scoped>\n    .dataframe tbody tr th:only-of-type {\n        vertical-align: middle;\n    }\n\n    .dataframe tbody tr th {\n        vertical-align: top;\n    }\n\n    .dataframe thead th {\n        text-align: right;\n    }\n</style>\n<table border=\"1\" class=\"dataframe\">\n  <thead>\n    <tr style=\"text-align: right;\">\n      <th></th>\n      <th>amount</th>\n      <th>age_'0'</th>\n      <th>age_'1'</th>\n      <th>age_'2'</th>\n      <th>age_'3'</th>\n      <th>age_'4'</th>\n      <th>age_'5'</th>\n      <th>age_'6'</th>\n      <th>age_'U'</th>\n      <th>gender_'E'</th>\n      <th>...</th>\n      <th>category_'es_home'</th>\n      <th>category_'es_hotelservices'</th>\n      <th>category_'es_hyper'</th>\n      <th>category_'es_leisure'</th>\n      <th>category_'es_otherservices'</th>\n      <th>category_'es_sportsandtoys'</th>\n      <th>category_'es_tech'</th>\n      <th>category_'es_transportation'</th>\n      <th>category_'es_travel'</th>\n      <th>category_'es_wellnessandbeauty'</th>\n    </tr>\n  </thead>\n  <tbody>\n    <tr>\n      <th>0</th>\n      <td>0.000546</td>\n      <td>0</td>\n      <td>0</td>\n      <td>0</td>\n      <td>0</td>\n      <td>1</td>\n      <td>0</td>\n      <td>0</td>\n      <td>0</td>\n      <td>0</td>\n      <td>...</td>\n      <td>0</td>\n      <td>0</td>\n      <td>0</td>\n      <td>0</td>\n      <td>0</td>\n      <td>0</td>\n      <td>0</td>\n      <td>1</td>\n      <td>0</td>\n      <td>0</td>\n    </tr>\n    <tr>\n      <th>1</th>\n      <td>0.004764</td>\n      <td>0</td>\n      <td>0</td>\n      <td>1</td>\n      <td>0</td>\n      <td>0</td>\n      <td>0</td>\n      <td>0</td>\n      <td>0</td>\n      <td>0</td>\n      <td>...</td>\n      <td>0</td>\n      <td>0</td>\n      <td>0</td>\n      <td>0</td>\n      <td>0</td>\n      <td>0</td>\n      <td>0</td>\n      <td>1</td>\n      <td>0</td>\n      <td>0</td>\n    </tr>\n    <tr>\n      <th>2</th>\n      <td>0.003228</td>\n      <td>0</td>\n      <td>0</td>\n      <td>0</td>\n      <td>0</td>\n      <td>1</td>\n      <td>0</td>\n      <td>0</td>\n      <td>0</td>\n      <td>0</td>\n      <td>...</td>\n      <td>0</td>\n      <td>0</td>\n      <td>0</td>\n      <td>0</td>\n      <td>0</td>\n      <td>0</td>\n      <td>0</td>\n      <td>1</td>\n      <td>0</td>\n      <td>0</td>\n    </tr>\n    <tr>\n      <th>3</th>\n      <td>0.002071</td>\n      <td>0</td>\n      <td>0</td>\n      <td>0</td>\n      <td>1</td>\n      <td>0</td>\n      <td>0</td>\n      <td>0</td>\n      <td>0</td>\n      <td>0</td>\n      <td>...</td>\n      <td>0</td>\n      <td>0</td>\n      <td>0</td>\n      <td>0</td>\n      <td>0</td>\n      <td>0</td>\n      <td>0</td>\n      <td>1</td>\n      <td>0</td>\n      <td>0</td>\n    </tr>\n    <tr>\n      <th>4</th>\n      <td>0.004288</td>\n      <td>0</td>\n      <td>0</td>\n      <td>0</td>\n      <td>0</td>\n      <td>0</td>\n      <td>1</td>\n      <td>0</td>\n      <td>0</td>\n      <td>0</td>\n      <td>...</td>\n      <td>0</td>\n      <td>0</td>\n      <td>0</td>\n      <td>0</td>\n      <td>0</td>\n      <td>0</td>\n      <td>0</td>\n      <td>1</td>\n      <td>0</td>\n      <td>0</td>\n    </tr>\n  </tbody>\n</table>\n<p>5 rows × 78 columns</p>\n</div>"
     },
     "execution_count": 10,
     "metadata": {},
     "output_type": "execute_result"
    }
   ],
   "source": [
    "features_final.head()"
   ]
  },
  {
   "cell_type": "code",
   "execution_count": 11,
   "metadata": {},
   "outputs": [
    {
     "data": {
      "text/plain": "(594643, 78)"
     },
     "execution_count": 11,
     "metadata": {},
     "output_type": "execute_result"
    }
   ],
   "source": [
    "features_final.shape"
   ]
  },
  {
   "cell_type": "markdown",
   "metadata": {},
   "source": [
    "## Train Standard Models \n",
    "When all features has been preprocessed, two models (a Random Forest and a SVC) trained on the standard features will be compared to each other using K-Fold Cross Validation to find the model best suited for the dataset.  "
   ]
  },
  {
   "cell_type": "code",
   "execution_count": 12,
   "metadata": {
    "collapsed": true
   },
   "outputs": [],
   "source": [
    "from sklearn.model_selection import *\n",
    "from sklearn.ensemble import RandomForestClassifier"
   ]
  },
  {
   "cell_type": "code",
   "execution_count": null,
   "metadata": {
    "collapsed": true,
    "pycharm": {
     "is_executing": true
    }
   },
   "outputs": [],
   "source": [
    "from modules import train_standard_models as tsm\n",
    "fold_betas, fold_accuracy = tsm.some_func(features_final, label)"
   ]
  },
  {
   "cell_type": "code",
   "execution_count": null,
   "metadata": {
    "pycharm": {
     "is_executing": true
    }
   },
   "outputs": [],
   "source": [
    "print(\"---------- Betas Average ----------\")\n",
    "tsm.calculate_average_for_fold(fold_betas, [\"SVM\", \"RF\"])\n",
    "print(\"---------- Accuracy Averages -----------\")\n",
    "tsm.calculate_average_for_fold(fold_accuracy, [\"SVM\", \"RF\"])\n"
   ]
  },
  {
   "cell_type": "markdown",
   "metadata": {},
   "source": [
    "### Hyperparameter Optimization\n",
    "As seen above, the Random Forest outperformes the SVC model in both f_1 score and accuracy. Therefore, the hyperparameters of the Random Forest model will be optimized using Grid Search. "
   ]
  },
  {
   "cell_type": "code",
   "execution_count": null,
   "metadata": {
    "pycharm": {
     "is_executing": true
    }
   },
   "outputs": [],
   "source": [
    "from modules import  hyperparameter_optimization as ho\n",
    "best_clf = ho.opt_and_print(features_final, label)"
   ]
  },
  {
   "cell_type": "markdown",
   "metadata": {},
   "source": [
    "Optimal parameters: "
   ]
  },
  {
   "cell_type": "code",
   "execution_count": null,
   "metadata": {
    "pycharm": {
     "is_executing": true
    }
   },
   "outputs": [],
   "source": [
    "best_clf"
   ]
  },
  {
   "cell_type": "markdown",
   "metadata": {},
   "source": []
  },
  {
   "cell_type": "markdown",
   "metadata": {},
   "source": [
    "## Network Features\n",
    "The following network features have been computed for both the customer and the merchant: Degree, PageRank and Community. These network features will be added to the dataset and preprocessed before used to train a Random Forest model. \n"
   ]
  },
  {
   "cell_type": "code",
   "execution_count": null,
   "metadata": {
    "pycharm": {
     "is_executing": true
    }
   },
   "outputs": [],
   "source": [
    "# Test output\n",
    "from modules import  network_features as nf\n",
    "df = nf.get_df(\"./data/bs140513_032310.csv\", \"./config.ini\")\n",
    "df.head()"
   ]
  },
  {
   "cell_type": "code",
   "execution_count": null,
   "metadata": {
    "collapsed": true,
    "pycharm": {
     "is_executing": true
    }
   },
   "outputs": [],
   "source": [
    "features_graph = df.drop('fraud', axis = 1)"
   ]
  },
  {
   "cell_type": "code",
   "execution_count": null,
   "metadata": {
    "pycharm": {
     "is_executing": true
    }
   },
   "outputs": [],
   "source": [
    "features_graph[['amount', 'merchDegree', 'custDegree', 'custPageRank', 'merchPageRank']].head()"
   ]
  },
  {
   "cell_type": "markdown",
   "metadata": {},
   "source": [
    "### Preprocessing \n",
    "The standard features are preprocessed in the same way as before. The PageRank and Degree of both the customer and the merchant are min-max scaled and their community is one-hot encoded. "
   ]
  },
  {
   "cell_type": "code",
   "execution_count": null,
   "metadata": {
    "pycharm": {
     "is_executing": true
    }
   },
   "outputs": [],
   "source": [
    "scaler = MinMaxScaler()\n",
    "\n",
    "df[['amount', 'merchDegree', 'custDegree', 'custPageRank', 'merchPageRank']] = scaler.fit_transform(df[['amount', 'merchDegree', 'custDegree', 'custPageRank', 'merchPageRank']])\n",
    "features_graph[['amount', 'merchDegree', 'custDegree', 'custPageRank', 'merchPageRank']] = df[['amount', 'merchDegree', 'custDegree', 'custPageRank', 'merchPageRank']]\n",
    "\n",
    "\n",
    "# Show an example of a record with scaling applied\n",
    "features_graph.head()"
   ]
  },
  {
   "cell_type": "code",
   "execution_count": null,
   "metadata": {
    "collapsed": true,
    "pycharm": {
     "is_executing": true
    }
   },
   "outputs": [],
   "source": [
    "features_graph =  features_graph.drop(['step','zipcodeOri', 'zipMerchant', 'customer'], axis = 1)\n",
    "features_enhanced = pd.get_dummies(features_graph)"
   ]
  },
  {
   "cell_type": "code",
   "execution_count": null,
   "metadata": {
    "pycharm": {
     "is_executing": true
    }
   },
   "outputs": [],
   "source": [
    "features_enhanced.shape"
   ]
  },
  {
   "cell_type": "markdown",
   "metadata": {},
   "source": [
    "### Model training: Network Enhanced vs Standard Model\n",
    "Two models are evaluated using K-fold Cross-Validation: one model trained on the network emnhaced input feature set and one on the standard features. The Random Forest models are initiated with the optimal hyperparameters found using grid search above.  \n"
   ]
  },
  {
   "cell_type": "code",
   "execution_count": null,
   "metadata": {
    "collapsed": true,
    "pycharm": {
     "is_executing": true
    }
   },
   "outputs": [],
   "source": [
    "fold_betas, fold_accuracy = tsm.other_func(features_final, features_enhanced, label)"
   ]
  },
  {
   "cell_type": "code",
   "execution_count": null,
   "metadata": {
    "scrolled": false,
    "pycharm": {
     "is_executing": true
    }
   },
   "outputs": [],
   "source": [
    "\n",
    "print(\"---------- Betas Average ----------\")\n",
    "tsm.calculate_average_for_fold(fold_betas, [\"standard\", \"enhanced\"])\n",
    "print(\"---------- Accuracy Averages -----------\")\n",
    "tsm.calculate_average_for_fold(fold_accuracy, [\"standard\", \"enhanced\"])"
   ]
  },
  {
   "cell_type": "markdown",
   "metadata": {},
   "source": [
    "## Result Evaluation \n",
    "\n",
    "The results will be evaluated with regards to these three factors: \n",
    "* Statistical Accuracy\n",
    "* Interpretability\n",
    "* Operational Efficiency\n",
    "\n",
    "The statistical accuracy will be evaluated by training both the standard and network enhanced model on 100 random train-test splits and creating confidence intervals of the difference in metrics between the two models. \n",
    "\n",
    "The interpretability will be evaluated using the feature importance statistic on the Random Forest model. \n",
    "\n",
    "The operational efficience will be evaluated by calculating the average training and prediction time of the two models over the 100 train-test splits. \n",
    "\n"
   ]
  },
  {
   "cell_type": "code",
   "execution_count": null,
   "metadata": {
    "scrolled": true,
    "pycharm": {
     "is_executing": true
    }
   },
   "outputs": [],
   "source": [
    "from modules import for_result as fr\n",
    "# Train 100 models\n",
    "training_seeds_result = []\n",
    "\n",
    "for i in range(100):\n",
    "    training_seeds_result.append(fr.train_models(i, features_final, features_enhanced, label))\n",
    "    print(\"----- Training: {} done -----\".format(i))"
   ]
  },
  {
   "cell_type": "code",
   "execution_count": null,
   "metadata": {
    "collapsed": true,
    "pycharm": {
     "is_executing": true
    }
   },
   "outputs": [],
   "source": [
    "# Savning the results (commented out to not oversave )\n",
    "import pickle\n",
    "\n",
    "with open('training_seeds_result', 'wb') as fp:\n",
    "    pickle.dump(training_seeds_result, fp)\n",
    "\n",
    "# get prediction results of 100 classifiers back\n",
    "#with open ('training_seeds_result', 'rb') as fp:\n",
    "    #training_seeds_result = pickle.load(fp)"
   ]
  },
  {
   "cell_type": "code",
   "execution_count": null,
   "metadata": {
    "pycharm": {
     "is_executing": true
    }
   },
   "outputs": [],
   "source": [
    "fr.print_metric_comparison(training_seeds_result)"
   ]
  },
  {
   "cell_type": "markdown",
   "metadata": {},
   "source": [
    "### Feature Importance\n",
    "\n",
    "Using the feature importance statistic on the random forest model the most important features of the model can be plotted. "
   ]
  },
  {
   "cell_type": "code",
   "execution_count": null,
   "metadata": {
    "pycharm": {
     "is_executing": true
    }
   },
   "outputs": [],
   "source": [
    "X_train_enh, X_test_enh, y_train_enh, y_test_enh = train_test_split(features_enhanced, \n",
    "                                                    label, \n",
    "                                                    test_size = 0.2, \n",
    "                                                    random_state = 0)\n",
    "\n",
    "clf_enh = RandomForestClassifier(max_features='sqrt',min_samples_split=50,n_estimators=100)\n",
    "clf_enh.fit(X_train_enh, y_train_enh)"
   ]
  },
  {
   "cell_type": "code",
   "execution_count": null,
   "metadata": {
    "pycharm": {
     "is_executing": true
    }
   },
   "outputs": [],
   "source": [
    "from modules import draw\n",
    "draw.draw_func(clf_enh, features_enhanced, X_train_enh)\n"
   ]
  },
  {
   "cell_type": "markdown",
   "metadata": {},
   "source": [
    "As seen in the two plots above the amount feature is by far the most important feature. Interstingly though the other four on the top five features are all derived from the graph. \n",
    "\n",
    "### Statistic Significance \n",
    "To evaluate the statistical significance of the resuilst. The difference in results between the two models will be calculated and used to create 99% confidence intervals for the improvements of the network enhanced model. The improvement is considered significant if 0 is not present in the interval.\n",
    " "
   ]
  },
  {
   "cell_type": "code",
   "execution_count": null,
   "metadata": {
    "collapsed": true,
    "pycharm": {
     "is_executing": true
    }
   },
   "outputs": [],
   "source": [
    "training_results_lists = fr.statistic_significance(training_seeds_result)"
   ]
  },
  {
   "cell_type": "code",
   "execution_count": null,
   "metadata": {
    "pycharm": {
     "is_executing": true
    }
   },
   "outputs": [],
   "source": [
    "for val in training_results_lists:\n",
    "    temp_array = np.array(training_results_lists[val])\n",
    "    training_results_lists[val] = temp_array\n",
    "\n",
    "    print(\"{}: avg: {} std: {}\".format(val, temp_array.mean(), temp_array.std()))"
   ]
  },
  {
   "cell_type": "markdown",
   "metadata": {},
   "source": [
    "TEST"
   ]
  },
  {
   "cell_type": "code",
   "execution_count": null,
   "metadata": {
    "pycharm": {
     "is_executing": true
    }
   },
   "outputs": [],
   "source": [
    "from modules import test\n",
    "test.run_test(training_results_lists)"
   ]
  }
 ],
 "metadata": {
  "kernelspec": {
   "display_name": "Python 3",
   "language": "python",
   "name": "python3"
  },
  "language_info": {
   "codemirror_mode": {
    "name": "ipython",
    "version": 3
   },
   "file_extension": ".py",
   "mimetype": "text/x-python",
   "name": "python",
   "nbconvert_exporter": "python",
   "pygments_lexer": "ipython3",
   "version": "3.6.2"
  }
 },
 "nbformat": 4,
 "nbformat_minor": 2
}