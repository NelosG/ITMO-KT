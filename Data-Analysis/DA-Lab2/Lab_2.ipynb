{
 "nbformat": 4,
 "nbformat_minor": 5,
 "metadata": {
  "kernelspec": {
   "display_name": "Python 3",
   "language": "python",
   "name": "python3"
  },
  "language_info": {
   "codemirror_mode": {
    "name": "ipython",
    "version": 3
   },
   "file_extension": ".py",
   "mimetype": "text/x-python",
   "name": "python",
   "nbconvert_exporter": "python",
   "pygments_lexer": "ipython3",
   "version": "3.8.2"
  },
  "colab": {
   "name": "Lab-2.ipynb",
   "provenance": []
  }
 },
 "cells": [
  {
   "cell_type": "markdown",
   "metadata": {
    "id": "loose-emerald"
   },
   "source": [
    "# 1. ResolutionFailure: Your dependencies could not be resolved\n",
    "\n",
    "Найдите python пакет, имеющий зависимость от любого python пакета, использованного вами в первой лабораторной. Создайте свой пакет и установите его с конфликтующими зависимостями\n",
    "\n",
    "1. Создайте и [загрузите в pypi](https://betterscientificsoftware.github.io/python-for-hpc/tutorials/python-pypi-packaging/) свой пакет, проверьте, что его можно установить через pip\n",
    "1. Установите свой пакет с помощью pip\n",
    "1. Установите свой пакет в любую вируальную среду\n",
    "1. Продемонстрируйте корректно работающие функции в своём python-пакете"
   ],
   "id": "loose-emerald"
  },
  {
   "cell_type": "markdown",
   "metadata": {
    "id": "animated-fight"
   },
   "source": [
    "# 2. Да кто так пишет?!\n",
    "\n",
    "Возьмите произвольный дипломный проект по машинному обучению. Для этого скорее всего будет достаточно найти на github проекты по запросу \"machine learning thesis\" и профильтровать по языку \"Jupyter Notebook\". С большой вероятностью код случайно выбранного диплома в этой сфере будет ужасным. Приведите код в порядок:\n",
    "\n",
    "- вынесите занимающий место функционал в python модули\n",
    "- напишите аннотации типов для функций\n",
    "- добавьте конфиги для параметров\n",
    "- если это не требует углубления в логику дипломной работы, расставьте порядок запуска ноутбуков и/или скриптов\n",
    "- для случайных процессов зафиксируйте seed\n",
    "- выделите зависимости, создайте pipenv файлы\n",
    "- сделайте пулреквест автору: покажите своё культурное превосходство\n",
    "\n",
    "\n",
    "Выберите такой проект, который:\n",
    "- ещё не был выбран вашими одногруппниками\n",
    "- относительно небольшой по количеству файлов. Не стоит тратить много времени на это задание\n",
    "- содержит как минимум половину грехов из списка исправлений выше"
   ],
   "id": "animated-fight"
  },
  {
   "cell_type": "markdown",
   "source": [
    "1. Вынес кучу кода в модули\n",
    "2. Написал аннотации\n",
    "3. Вынес в конфиг данные для создания графа\n",
    "\n",
    "Не запускал полностью потому что там одна из баз данных подгружается из Neo4j.\n",
    "А так же оно работает вечность, но нам и не надо проверять что оно корректно работает.\n",
    "\n",
    "Так же там видимо указаны неправильные или устаревшие данные, но это уже не моя проблема:\n",
    "![](./err.jpg)"
   ],
   "metadata": {
    "collapsed": false
   }
  },
  {
   "cell_type": "code",
   "execution_count": 1,
   "outputs": [
    {
     "name": "stdout",
     "output_type": "stream",
     "text": [
      "password123\n",
      "11002\n",
      "11001\n",
      "------------\n",
      "MATCH (p:Placeholder)\n",
      "RETURN p.id AS id, p.degree AS degree, p.pagerank as pagerank, p.community AS community\n"
     ]
    }
   ],
   "source": [
    "import yaml\n",
    "\n",
    "with open(\"./GraphEnhancedMachineLearningForFraud/conf.yaml\") as stream:\n",
    "    config = yaml.safe_load(stream)\n",
    "print(config[\"password\"])\n",
    "print(config[\"bolt_port\"])\n",
    "print(config[\"http_port\"])\n",
    "print(\"------------\")\n",
    "print(config[\"query\"])"
   ],
   "metadata": {
    "collapsed": false,
    "pycharm": {
     "name": "#%%\n"
    }
   }
  },
  {
   "cell_type": "markdown",
   "source": [
    "Как видим, конфиг нормально работает"
   ],
   "metadata": {
    "collapsed": false,
    "pycharm": {
     "name": "#%% md\n"
    }
   }
  },
  {
   "cell_type": "markdown",
   "source": [
    "Этот проект простоял у меня всю ночь, но так и не закончил работу, так же там есть некорректные настройки для Neo4j, поэтому я решил взять другой проект."
   ],
   "metadata": {
    "collapsed": false
   }
  },
  {
   "cell_type": "markdown",
   "source": [
    "Другой проект работал на старых библиотеках, на новых не работает пенальти, но зато скорость почти в 10 раз выше.\n",
    "![](./old.jpg)\n",
    "![](./new.jpg)\n",
    "И да в оригинале был пропущен сброс времени и в итоге это время общего запуска функции(пропущено в 1 месте, я починил)."
   ],
   "metadata": {
    "collapsed": false
   }
  },
  {
   "cell_type": "markdown",
   "source": [
    "В итоге вынес копипасту в модуль, прописал типы функций и написал конфиг."
   ],
   "metadata": {
    "collapsed": false
   }
  },
  {
   "cell_type": "markdown",
   "metadata": {
    "id": "alive-armor",
    "pycharm": {
     "name": "#%% md\n"
    }
   },
   "source": [
    "# 3. Press Shift+Enter to get 300k/sec salary\n",
    "\n",
    "Выберите произвольный Google Colab notebook из этого крутого [репозитория](https://github.com/amrzv/awesome-colab-notebooks), запустите и примените к своим данным"
   ],
   "id": "alive-armor"
  },
  {
   "cell_type": "markdown",
   "source": [
    "[я взял этот](https://colab.research.google.com/github/espnet/notebook/blob/master/espnet2_tts_realtime_demo.ipynb#scrollTo=o87zK1NLobne)"
   ],
   "metadata": {
    "collapsed": false,
    "pycharm": {
     "name": "#%% md\n"
    }
   }
  }
 ]
}