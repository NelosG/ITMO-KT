{
 "cells": [
  {
   "cell_type": "markdown",
   "source": [
    "# Задание из четвёртой лабы\n",
    "\n",
    "Обучите один из алгоритмов классификации из библиотеки sklearn. Объяснять принцип работы классификатора в этой лабораторной не требуется\n",
    "\n",
    "1. Выберите один из датасетов первой лабораторной\n",
    "\n",
    "\n",
    "2. Найдите в данных признак, который будете предсказывать\n",
    "\n",
    "    Если это категория, то у неё должно быть от 2 до 10 значений (например колонка species в датасете миграции птиц содержит 3 категории)\n",
    "\n",
    "    Если признак количественный, то его нужно дискретизировать (например для популярности трека в датасете spotify можно разделить треки на 3 категории: 0-20 - популярные, 21-50 - обычные, 51 - 100 - непопулярные). Полученную категорию записать в датафрейм как отдельную колонку\n",
    "\n",
    "\n",
    "3. Выделите признаки для предсказания\n",
    "\n",
    "    Используйте от 2 до 5 количественных признаков для предсказания целевой переменной\n",
    "\n",
    "\n",
    "4. Проверьте нормальность количественных признаков\n",
    "\n",
    "    Используйте статистический тест из лекции. Если распределение является лог-нормальным, логарифмируйте его и проверьте на нормальность\n",
    "\n",
    "    Как минимум 1 из признаков должен быть нормальным\n",
    "\n",
    "\n",
    "5. Покажите качество предсказания модели с помощью метрик\n",
    "\n",
    "    Метрика должна учитывать баланс классов в датасете"
   ],
   "metadata": {
    "collapsed": false
   }
  },
  {
   "cell_type": "markdown",
   "source": [
    "Импорты"
   ],
   "metadata": {
    "collapsed": false
   }
  },
  {
   "cell_type": "code",
   "execution_count": 1,
   "outputs": [],
   "source": [
    "import numpy as np\n",
    "import pandas as pd\n",
    "\n",
    "# Visualisation\n",
    "import seaborn as sns\n",
    "import matplotlib.pyplot as plt\n",
    "\n",
    "# Utils\n",
    "from scipy.stats import normaltest\n",
    "from sklearn.model_selection import cross_val_score\n",
    "\n",
    "# Classifiers\n",
    "from sklearn.neighbors import KNeighborsClassifier\n",
    "from sklearn.ensemble import RandomForestClassifier\n",
    "from sklearn.svm import SVC\n",
    "\n",
    "# Metrics\n",
    "from sklearn.metrics import make_scorer\n",
    "from sklearn.metrics import f1_score"
   ],
   "metadata": {
    "collapsed": false,
    "pycharm": {
     "name": "#%%\n"
    }
   }
  },
  {
   "cell_type": "markdown",
   "source": [
    "Подготовим датасет."
   ],
   "metadata": {
    "collapsed": false
   }
  },
  {
   "cell_type": "code",
   "execution_count": 2,
   "metadata": {
    "collapsed": true
   },
   "outputs": [
    {
     "data": {
      "text/plain": "      name                                           planning  \\\n0       -0  [{'mal_id': 39764, 'title': 'Detective Conan M...   \n1  -Droid-  [{'mal_id': 6408, 'title': '\"Bungaku Shoujo\" M...   \n2  -Hentai  [{'mal_id': 39783, 'title': '5-toubun no Hanay...   \n3    -Jens  [{'mal_id': 31646, 'title': '3-gatsu no Lion'}...   \n4    -Kano  [{'mal_id': 34777, 'title': '91 Days: Toki no ...   \n\n                                             watched  completed  days_watched  \\\n0  [{'title': '1', 'mal_id': 29978, 'score': 6, '...        467         181.6   \n1  [{'title': '11eyes', 'mal_id': 6682, 'score': ...       1125         263.3   \n2  [{'title': '3-gatsu no Lion', 'mal_id': 31646,...        887         270.4   \n3  [{'title': '07-Ghost', 'mal_id': 5525, 'score'...        102          17.8   \n4  [{'title': '3-gatsu no Lion', 'mal_id': 31646,...        193          65.2   \n\n   dropped  episodes_watched  mean_score  on_hold  plan_to_watch  rewatched  \\\n0        0             11160        7.74        0              7          0   \n1        4             16195        7.80        4           1131         53   \n2       60             16189        7.36        9             88          8   \n3        0              1093        6.81        8            403          0   \n4       25              3961        6.92       32             70          2   \n\n   total_entries  watching                   birthday gender  \\\n0            477         3                        NaN    NaN   \n1           2271         7  1930-01-07T00:00:00+00:00   Male   \n2           1070        26  1991-11-05T00:00:00+00:00   Male   \n3            518         5                        NaN    NaN   \n4            325         5                        NaN    NaN   \n\n                      joined                last_online  \\\n0  2017-09-19T00:00:00+00:00  2020-09-25 11:03:22+00:00   \n1  2013-09-07T00:00:00+00:00  2020-09-17 21:07:00+00:00   \n2  2014-05-19T00:00:00+00:00  2020-09-21 19:11:28+00:00   \n3  2020-06-11T00:00:00+00:00  2020-09-24 14:06:00+00:00   \n4  2015-08-12T00:00:00+00:00  2020-09-26 01:29:32+00:00   \n\n                location                                          favorites  \\\n0                    NaN      {'anime': [], 'characters': [], 'people': []}   \n1                     MA  {'anime': [{'mal_id': 237, 'title': 'Koukyoush...   \n2         UAE - Sharjah   {'anime': [{'mal_id': 31933, 'title': 'JoJo no...   \n3  Fish tank. I'm stuck.  {'anime': [{'mal_id': 205, 'title': 'Samurai C...   \n4                    NaN      {'anime': [], 'characters': [], 'people': []}   \n\n                                         genre_count  \n0  {'Action': 153, 'Adventure': 162, 'Cars': 5, '...  \n1  {'Action': 447, 'Adventure': 186, 'Cars': 1, '...  \n2  {'Action': 418, 'Adventure': 210, 'Cars': 1, '...  \n3  {'Action': 36, 'Adventure': 9, 'Cars': 0, 'Com...  \n4  {'Action': 84, 'Adventure': 25, 'Cars': 0, 'Co...  ",
      "text/html": "<div>\n<style scoped>\n    .dataframe tbody tr th:only-of-type {\n        vertical-align: middle;\n    }\n\n    .dataframe tbody tr th {\n        vertical-align: top;\n    }\n\n    .dataframe thead th {\n        text-align: right;\n    }\n</style>\n<table border=\"1\" class=\"dataframe\">\n  <thead>\n    <tr style=\"text-align: right;\">\n      <th></th>\n      <th>name</th>\n      <th>planning</th>\n      <th>watched</th>\n      <th>completed</th>\n      <th>days_watched</th>\n      <th>dropped</th>\n      <th>episodes_watched</th>\n      <th>mean_score</th>\n      <th>on_hold</th>\n      <th>plan_to_watch</th>\n      <th>rewatched</th>\n      <th>total_entries</th>\n      <th>watching</th>\n      <th>birthday</th>\n      <th>gender</th>\n      <th>joined</th>\n      <th>last_online</th>\n      <th>location</th>\n      <th>favorites</th>\n      <th>genre_count</th>\n    </tr>\n  </thead>\n  <tbody>\n    <tr>\n      <th>0</th>\n      <td>-0</td>\n      <td>[{'mal_id': 39764, 'title': 'Detective Conan M...</td>\n      <td>[{'title': '1', 'mal_id': 29978, 'score': 6, '...</td>\n      <td>467</td>\n      <td>181.6</td>\n      <td>0</td>\n      <td>11160</td>\n      <td>7.74</td>\n      <td>0</td>\n      <td>7</td>\n      <td>0</td>\n      <td>477</td>\n      <td>3</td>\n      <td>NaN</td>\n      <td>NaN</td>\n      <td>2017-09-19T00:00:00+00:00</td>\n      <td>2020-09-25 11:03:22+00:00</td>\n      <td>NaN</td>\n      <td>{'anime': [], 'characters': [], 'people': []}</td>\n      <td>{'Action': 153, 'Adventure': 162, 'Cars': 5, '...</td>\n    </tr>\n    <tr>\n      <th>1</th>\n      <td>-Droid-</td>\n      <td>[{'mal_id': 6408, 'title': '\"Bungaku Shoujo\" M...</td>\n      <td>[{'title': '11eyes', 'mal_id': 6682, 'score': ...</td>\n      <td>1125</td>\n      <td>263.3</td>\n      <td>4</td>\n      <td>16195</td>\n      <td>7.80</td>\n      <td>4</td>\n      <td>1131</td>\n      <td>53</td>\n      <td>2271</td>\n      <td>7</td>\n      <td>1930-01-07T00:00:00+00:00</td>\n      <td>Male</td>\n      <td>2013-09-07T00:00:00+00:00</td>\n      <td>2020-09-17 21:07:00+00:00</td>\n      <td>MA</td>\n      <td>{'anime': [{'mal_id': 237, 'title': 'Koukyoush...</td>\n      <td>{'Action': 447, 'Adventure': 186, 'Cars': 1, '...</td>\n    </tr>\n    <tr>\n      <th>2</th>\n      <td>-Hentai</td>\n      <td>[{'mal_id': 39783, 'title': '5-toubun no Hanay...</td>\n      <td>[{'title': '3-gatsu no Lion', 'mal_id': 31646,...</td>\n      <td>887</td>\n      <td>270.4</td>\n      <td>60</td>\n      <td>16189</td>\n      <td>7.36</td>\n      <td>9</td>\n      <td>88</td>\n      <td>8</td>\n      <td>1070</td>\n      <td>26</td>\n      <td>1991-11-05T00:00:00+00:00</td>\n      <td>Male</td>\n      <td>2014-05-19T00:00:00+00:00</td>\n      <td>2020-09-21 19:11:28+00:00</td>\n      <td>UAE - Sharjah</td>\n      <td>{'anime': [{'mal_id': 31933, 'title': 'JoJo no...</td>\n      <td>{'Action': 418, 'Adventure': 210, 'Cars': 1, '...</td>\n    </tr>\n    <tr>\n      <th>3</th>\n      <td>-Jens</td>\n      <td>[{'mal_id': 31646, 'title': '3-gatsu no Lion'}...</td>\n      <td>[{'title': '07-Ghost', 'mal_id': 5525, 'score'...</td>\n      <td>102</td>\n      <td>17.8</td>\n      <td>0</td>\n      <td>1093</td>\n      <td>6.81</td>\n      <td>8</td>\n      <td>403</td>\n      <td>0</td>\n      <td>518</td>\n      <td>5</td>\n      <td>NaN</td>\n      <td>NaN</td>\n      <td>2020-06-11T00:00:00+00:00</td>\n      <td>2020-09-24 14:06:00+00:00</td>\n      <td>Fish tank. I'm stuck.</td>\n      <td>{'anime': [{'mal_id': 205, 'title': 'Samurai C...</td>\n      <td>{'Action': 36, 'Adventure': 9, 'Cars': 0, 'Com...</td>\n    </tr>\n    <tr>\n      <th>4</th>\n      <td>-Kano</td>\n      <td>[{'mal_id': 34777, 'title': '91 Days: Toki no ...</td>\n      <td>[{'title': '3-gatsu no Lion', 'mal_id': 31646,...</td>\n      <td>193</td>\n      <td>65.2</td>\n      <td>25</td>\n      <td>3961</td>\n      <td>6.92</td>\n      <td>32</td>\n      <td>70</td>\n      <td>2</td>\n      <td>325</td>\n      <td>5</td>\n      <td>NaN</td>\n      <td>NaN</td>\n      <td>2015-08-12T00:00:00+00:00</td>\n      <td>2020-09-26 01:29:32+00:00</td>\n      <td>NaN</td>\n      <td>{'anime': [], 'characters': [], 'people': []}</td>\n      <td>{'Action': 84, 'Adventure': 25, 'Cars': 0, 'Co...</td>\n    </tr>\n  </tbody>\n</table>\n</div>"
     },
     "execution_count": 2,
     "metadata": {},
     "output_type": "execute_result"
    }
   ],
   "source": [
    "df = pd.read_csv('./Data/user_data.csv')\n",
    "df.head()"
   ]
  },
  {
   "cell_type": "code",
   "execution_count": 3,
   "outputs": [
    {
     "data": {
      "text/plain": "name                  0\nplanning              0\nwatched               0\ncompleted             0\ndays_watched          0\ndropped               0\nepisodes_watched      0\nmean_score            0\non_hold               0\nplan_to_watch         0\nrewatched             0\ntotal_entries         0\nwatching              0\nbirthday            934\ngender              444\njoined                0\nlast_online           0\nlocation            721\nfavorites             0\ngenre_count           0\ndtype: int64"
     },
     "execution_count": 3,
     "metadata": {},
     "output_type": "execute_result"
    }
   ],
   "source": [
    "df.isnull().sum()"
   ],
   "metadata": {
    "collapsed": false,
    "pycharm": {
     "name": "#%%\n"
    }
   }
  },
  {
   "cell_type": "markdown",
   "source": [
    "Удалим нулы, так как в данном случае некорректно будет обучать модель заменяя их на дефолтные значения.\n",
    "Не трогаем location так как в любом случае не будем ее использовать(невозможно сделать количественным и множество различных значений слишком велико)."
   ],
   "metadata": {
    "collapsed": false
   }
  },
  {
   "cell_type": "code",
   "execution_count": 4,
   "outputs": [],
   "source": [
    "df = df.loc[(df['gender'].notnull())]\n",
    "\n",
    "df = df.loc[(df['birthday'].notnull())]"
   ],
   "metadata": {
    "collapsed": false,
    "pycharm": {
     "name": "#%%\n"
    }
   }
  },
  {
   "cell_type": "markdown",
   "source": [
    "Добавим новый столбец *age* - возраст пользователя."
   ],
   "metadata": {
    "collapsed": false
   }
  },
  {
   "cell_type": "code",
   "execution_count": 5,
   "outputs": [
    {
     "data": {
      "text/plain": "           name                                           planning  \\\n1       -Droid-  [{'mal_id': 6408, 'title': '\"Bungaku Shoujo\" M...   \n2       -Hentai  [{'mal_id': 39783, 'title': '5-toubun no Hanay...   \n5    -Kurosawa-  [{'mal_id': 38749, 'title': 'Blade Runner: Bla...   \n6  -Lethargica-  [{'mal_id': 6408, 'title': '\"Bungaku Shoujo\" M...   \n7      -Mahiru-  [{'mal_id': 19429, 'title': 'Akuma no Riddle'}...   \n\n                                             watched  completed  days_watched  \\\n1  [{'title': '11eyes', 'mal_id': 6682, 'score': ...       1125         263.3   \n2  [{'title': '3-gatsu no Lion', 'mal_id': 31646,...        887         270.4   \n5  [{'title': '\"0\"', 'mal_id': 20707, 'score': 0,...        594         201.2   \n6  [{'title': '00:08', 'mal_id': 28761, 'score': ...        433          51.8   \n7  [{'title': '30-pun de Wakaru! Kore made no Lov...        227          44.7   \n\n   dropped  episodes_watched  mean_score  on_hold  plan_to_watch  ...  \\\n1        4             16195        7.80        4           1131  ...   \n2       60             16189        7.36        9             88  ...   \n5       12             12248        5.42        5             13  ...   \n6        0              3252        5.36        3            666  ...   \n7        9              2799        7.96        3             81  ...   \n\n   total_entries  watching                   birthday  gender  \\\n1           2271         7  1930-01-07T00:00:00+00:00    Male   \n2           1070        26  1991-11-05T00:00:00+00:00    Male   \n5            651        27  2000-05-05T00:00:00+00:00    Male   \n6           1113        11  1995-03-21T00:00:00+00:00  Female   \n7            325         5  2003-02-04T00:00:00+00:00  Female   \n\n                      joined                last_online        location  \\\n1  2013-09-07T00:00:00+00:00  2020-09-17 21:07:00+00:00              MA   \n2  2014-05-19T00:00:00+00:00  2020-09-21 19:11:28+00:00  UAE - Sharjah    \n5  2016-12-11T00:00:00+00:00  2020-09-20 12:52:00+00:00           Wired   \n6  2017-05-30T00:00:00+00:00  2020-09-25 13:39:32+00:00             NaN   \n7  2017-06-15T00:00:00+00:00  2020-09-25 20:23:22+00:00   Hanazono Land   \n\n                                           favorites  \\\n1  {'anime': [{'mal_id': 237, 'title': 'Koukyoush...   \n2  {'anime': [{'mal_id': 31933, 'title': 'JoJo no...   \n5      {'anime': [], 'characters': [], 'people': []}   \n6  {'anime': [{'mal_id': 339, 'title': 'Serial Ex...   \n7  {'anime': [{'mal_id': 9253, 'title': 'Steins;G...   \n\n                                         genre_count age  \n1  {'Action': 447, 'Adventure': 186, 'Cars': 1, '...  91  \n2  {'Action': 418, 'Adventure': 210, 'Cars': 1, '...  30  \n5  {'Action': 301, 'Adventure': 152, 'Cars': 3, '...  21  \n6  {'Action': 81, 'Adventure': 64, 'Cars': 0, 'Co...  26  \n7  {'Action': 56, 'Adventure': 20, 'Cars': 0, 'Co...  18  \n\n[5 rows x 21 columns]",
      "text/html": "<div>\n<style scoped>\n    .dataframe tbody tr th:only-of-type {\n        vertical-align: middle;\n    }\n\n    .dataframe tbody tr th {\n        vertical-align: top;\n    }\n\n    .dataframe thead th {\n        text-align: right;\n    }\n</style>\n<table border=\"1\" class=\"dataframe\">\n  <thead>\n    <tr style=\"text-align: right;\">\n      <th></th>\n      <th>name</th>\n      <th>planning</th>\n      <th>watched</th>\n      <th>completed</th>\n      <th>days_watched</th>\n      <th>dropped</th>\n      <th>episodes_watched</th>\n      <th>mean_score</th>\n      <th>on_hold</th>\n      <th>plan_to_watch</th>\n      <th>...</th>\n      <th>total_entries</th>\n      <th>watching</th>\n      <th>birthday</th>\n      <th>gender</th>\n      <th>joined</th>\n      <th>last_online</th>\n      <th>location</th>\n      <th>favorites</th>\n      <th>genre_count</th>\n      <th>age</th>\n    </tr>\n  </thead>\n  <tbody>\n    <tr>\n      <th>1</th>\n      <td>-Droid-</td>\n      <td>[{'mal_id': 6408, 'title': '\"Bungaku Shoujo\" M...</td>\n      <td>[{'title': '11eyes', 'mal_id': 6682, 'score': ...</td>\n      <td>1125</td>\n      <td>263.3</td>\n      <td>4</td>\n      <td>16195</td>\n      <td>7.80</td>\n      <td>4</td>\n      <td>1131</td>\n      <td>...</td>\n      <td>2271</td>\n      <td>7</td>\n      <td>1930-01-07T00:00:00+00:00</td>\n      <td>Male</td>\n      <td>2013-09-07T00:00:00+00:00</td>\n      <td>2020-09-17 21:07:00+00:00</td>\n      <td>MA</td>\n      <td>{'anime': [{'mal_id': 237, 'title': 'Koukyoush...</td>\n      <td>{'Action': 447, 'Adventure': 186, 'Cars': 1, '...</td>\n      <td>91</td>\n    </tr>\n    <tr>\n      <th>2</th>\n      <td>-Hentai</td>\n      <td>[{'mal_id': 39783, 'title': '5-toubun no Hanay...</td>\n      <td>[{'title': '3-gatsu no Lion', 'mal_id': 31646,...</td>\n      <td>887</td>\n      <td>270.4</td>\n      <td>60</td>\n      <td>16189</td>\n      <td>7.36</td>\n      <td>9</td>\n      <td>88</td>\n      <td>...</td>\n      <td>1070</td>\n      <td>26</td>\n      <td>1991-11-05T00:00:00+00:00</td>\n      <td>Male</td>\n      <td>2014-05-19T00:00:00+00:00</td>\n      <td>2020-09-21 19:11:28+00:00</td>\n      <td>UAE - Sharjah</td>\n      <td>{'anime': [{'mal_id': 31933, 'title': 'JoJo no...</td>\n      <td>{'Action': 418, 'Adventure': 210, 'Cars': 1, '...</td>\n      <td>30</td>\n    </tr>\n    <tr>\n      <th>5</th>\n      <td>-Kurosawa-</td>\n      <td>[{'mal_id': 38749, 'title': 'Blade Runner: Bla...</td>\n      <td>[{'title': '\"0\"', 'mal_id': 20707, 'score': 0,...</td>\n      <td>594</td>\n      <td>201.2</td>\n      <td>12</td>\n      <td>12248</td>\n      <td>5.42</td>\n      <td>5</td>\n      <td>13</td>\n      <td>...</td>\n      <td>651</td>\n      <td>27</td>\n      <td>2000-05-05T00:00:00+00:00</td>\n      <td>Male</td>\n      <td>2016-12-11T00:00:00+00:00</td>\n      <td>2020-09-20 12:52:00+00:00</td>\n      <td>Wired</td>\n      <td>{'anime': [], 'characters': [], 'people': []}</td>\n      <td>{'Action': 301, 'Adventure': 152, 'Cars': 3, '...</td>\n      <td>21</td>\n    </tr>\n    <tr>\n      <th>6</th>\n      <td>-Lethargica-</td>\n      <td>[{'mal_id': 6408, 'title': '\"Bungaku Shoujo\" M...</td>\n      <td>[{'title': '00:08', 'mal_id': 28761, 'score': ...</td>\n      <td>433</td>\n      <td>51.8</td>\n      <td>0</td>\n      <td>3252</td>\n      <td>5.36</td>\n      <td>3</td>\n      <td>666</td>\n      <td>...</td>\n      <td>1113</td>\n      <td>11</td>\n      <td>1995-03-21T00:00:00+00:00</td>\n      <td>Female</td>\n      <td>2017-05-30T00:00:00+00:00</td>\n      <td>2020-09-25 13:39:32+00:00</td>\n      <td>NaN</td>\n      <td>{'anime': [{'mal_id': 339, 'title': 'Serial Ex...</td>\n      <td>{'Action': 81, 'Adventure': 64, 'Cars': 0, 'Co...</td>\n      <td>26</td>\n    </tr>\n    <tr>\n      <th>7</th>\n      <td>-Mahiru-</td>\n      <td>[{'mal_id': 19429, 'title': 'Akuma no Riddle'}...</td>\n      <td>[{'title': '30-pun de Wakaru! Kore made no Lov...</td>\n      <td>227</td>\n      <td>44.7</td>\n      <td>9</td>\n      <td>2799</td>\n      <td>7.96</td>\n      <td>3</td>\n      <td>81</td>\n      <td>...</td>\n      <td>325</td>\n      <td>5</td>\n      <td>2003-02-04T00:00:00+00:00</td>\n      <td>Female</td>\n      <td>2017-06-15T00:00:00+00:00</td>\n      <td>2020-09-25 20:23:22+00:00</td>\n      <td>Hanazono Land</td>\n      <td>{'anime': [{'mal_id': 9253, 'title': 'Steins;G...</td>\n      <td>{'Action': 56, 'Adventure': 20, 'Cars': 0, 'Co...</td>\n      <td>18</td>\n    </tr>\n  </tbody>\n</table>\n<p>5 rows × 21 columns</p>\n</div>"
     },
     "execution_count": 5,
     "metadata": {},
     "output_type": "execute_result"
    }
   ],
   "source": [
    "df.loc[:, 'age'] = pd.to_datetime(df['birthday'], format='%Y-%m-%d').apply(lambda time: 2021 - time.year)\n",
    "df.head()"
   ],
   "metadata": {
    "collapsed": false,
    "pycharm": {
     "name": "#%%\n"
    }
   }
  },
  {
   "cell_type": "markdown",
   "source": [
    "Посмотрим как данные коррелируют друг с другом."
   ],
   "metadata": {
    "collapsed": false
   }
  },
  {
   "cell_type": "code",
   "execution_count": 6,
   "outputs": [
    {
     "data": {
      "text/plain": "<Figure size 432x288 with 2 Axes>",
      "image/png": "[encoded data removed]"
     },
     "metadata": {
      "needs_background": "light"
     },
     "output_type": "display_data"
    }
   ],
   "source": [
    "sns.heatmap(df.corr(), vmin=-1, vmax=1, annot=True);\n"
   ],
   "metadata": {
    "collapsed": false,
    "pycharm": {
     "name": "#%%\n"
    }
   }
  },
  {
   "cell_type": "markdown",
   "source": [
    "Я решил взять столбцы:\n",
    " - dropped\n",
    " - mean_score\n",
    " - on_hold\n",
    " - age\n",
    "\n",
    "и предсказывать пол пользователя."
   ],
   "metadata": {
    "collapsed": false
   }
  },
  {
   "cell_type": "markdown",
   "source": [
    "Удалим все лишнее."
   ],
   "metadata": {
    "collapsed": false
   }
  },
  {
   "cell_type": "code",
   "execution_count": 7,
   "outputs": [
    {
     "data": {
      "text/plain": "   dropped  mean_score  on_hold  gender  age\n1        4        7.80        4    Male   91\n2       60        7.36        9    Male   30\n5       12        5.42        5    Male   21\n6        0        5.36        3  Female   26\n7        9        7.96        3  Female   18",
      "text/html": "<div>\n<style scoped>\n    .dataframe tbody tr th:only-of-type {\n        vertical-align: middle;\n    }\n\n    .dataframe tbody tr th {\n        vertical-align: top;\n    }\n\n    .dataframe thead th {\n        text-align: right;\n    }\n</style>\n<table border=\"1\" class=\"dataframe\">\n  <thead>\n    <tr style=\"text-align: right;\">\n      <th></th>\n      <th>dropped</th>\n      <th>mean_score</th>\n      <th>on_hold</th>\n      <th>gender</th>\n      <th>age</th>\n    </tr>\n  </thead>\n  <tbody>\n    <tr>\n      <th>1</th>\n      <td>4</td>\n      <td>7.80</td>\n      <td>4</td>\n      <td>Male</td>\n      <td>91</td>\n    </tr>\n    <tr>\n      <th>2</th>\n      <td>60</td>\n      <td>7.36</td>\n      <td>9</td>\n      <td>Male</td>\n      <td>30</td>\n    </tr>\n    <tr>\n      <th>5</th>\n      <td>12</td>\n      <td>5.42</td>\n      <td>5</td>\n      <td>Male</td>\n      <td>21</td>\n    </tr>\n    <tr>\n      <th>6</th>\n      <td>0</td>\n      <td>5.36</td>\n      <td>3</td>\n      <td>Female</td>\n      <td>26</td>\n    </tr>\n    <tr>\n      <th>7</th>\n      <td>9</td>\n      <td>7.96</td>\n      <td>3</td>\n      <td>Female</td>\n      <td>18</td>\n    </tr>\n  </tbody>\n</table>\n</div>"
     },
     "execution_count": 7,
     "metadata": {},
     "output_type": "execute_result"
    }
   ],
   "source": [
    "df = df.drop(\n",
    "    ['name', 'planning', 'watched', 'joined', 'last_online', 'location', 'favorites', 'total_entries', 'completed',\n",
    "     'rewatched', 'genre_count', 'watching', 'plan_to_watch', 'days_watched', 'episodes_watched', 'birthday'], axis=1)\n",
    "df.head()"
   ],
   "metadata": {
    "collapsed": false,
    "pycharm": {
     "name": "#%%\n"
    }
   }
  },
  {
   "cell_type": "markdown",
   "source": [
    "Посмотрим общее количество записей."
   ],
   "metadata": {
    "collapsed": false
   }
  },
  {
   "cell_type": "code",
   "execution_count": 8,
   "outputs": [
    {
     "data": {
      "text/plain": "1192"
     },
     "execution_count": 8,
     "metadata": {},
     "output_type": "execute_result"
    }
   ],
   "source": [
    "df.mean_score.count()"
   ],
   "metadata": {
    "collapsed": false,
    "pycharm": {
     "name": "#%%\n"
    }
   }
  },
  {
   "cell_type": "markdown",
   "source": [
    "Возьмем только ту часть *mean_score* которая является нормальным распределением, а так же запретим *dropped* == 0, тогда *dropped* будет лог-нормальным."
   ],
   "metadata": {
    "collapsed": false
   }
  },
  {
   "cell_type": "code",
   "execution_count": 9,
   "outputs": [],
   "source": [
    "# Можно посмотреть какие и сколько значений мы вырезаем, но занимает кучу места.\n",
    "# print(np.unique(df.mean_score, return_counts=True))\n",
    "# print(np.unique(df.dropped, return_counts=True))\n",
    "# print(np.unique(df.age, return_counts=True))\n",
    "df = df.loc[(df['mean_score'] > 5) & (df['mean_score'] < 9.5) & (df['dropped'] != 0) & (df['age'] > 10) & (df['age'] < 40)]"
   ],
   "metadata": {
    "collapsed": false,
    "pycharm": {
     "name": "#%%\n"
    }
   }
  },
  {
   "cell_type": "markdown",
   "source": [
    "Посмотрим на гистограмме что *mean_score* является нормальным."
   ],
   "metadata": {
    "collapsed": false
   }
  },
  {
   "cell_type": "code",
   "execution_count": 10,
   "outputs": [
    {
     "data": {
      "text/plain": "<Figure size 432x288 with 1 Axes>",
      "image/png": "[encoded data removed]"
     },
     "metadata": {
      "needs_background": "light"
     },
     "output_type": "display_data"
    }
   ],
   "source": [
    "pd.Series(df['mean_score']).hist(bins=20)\n",
    "plt.xlabel('Нормальное распределение')\n",
    "plt.ylabel('Частота')\n",
    "plt.show()"
   ],
   "metadata": {
    "collapsed": false,
    "pycharm": {
     "name": "#%%\n"
    }
   }
  },
  {
   "cell_type": "markdown",
   "source": [],
   "metadata": {
    "collapsed": false
   }
  },
  {
   "cell_type": "markdown",
   "source": [
    "Посмотрим сколько мы вырезали."
   ],
   "metadata": {
    "collapsed": false
   }
  },
  {
   "cell_type": "code",
   "execution_count": 11,
   "outputs": [
    {
     "data": {
      "text/plain": "880"
     },
     "execution_count": 11,
     "metadata": {},
     "output_type": "execute_result"
    }
   ],
   "source": [
    "df.mean_score.count()"
   ],
   "metadata": {
    "collapsed": false,
    "pycharm": {
     "name": "#%%\n"
    }
   }
  },
  {
   "cell_type": "markdown",
   "source": [
    "*mean_score* - нормальное"
   ],
   "metadata": {
    "collapsed": false
   }
  },
  {
   "cell_type": "code",
   "execution_count": 12,
   "outputs": [
    {
     "name": "stdout",
     "output_type": "stream",
     "text": [
      "dropped - NormaltestResult(statistic=1250.2669316659, pvalue=3.220960031120935e-272)\n",
      "mean_score - NormaltestResult(statistic=4.304210742842302, pvalue=0.11623917333881044)\n",
      "on_hold - NormaltestResult(statistic=1876.081810653158, pvalue=0.0)\n",
      "age - NormaltestResult(statistic=64.33470704970334, pvalue=1.0712624117191466e-14)\n"
     ]
    }
   ],
   "source": [
    "for col in df.columns:\n",
    "    if col == 'gender':\n",
    "        continue\n",
    "    print('{} - {}'.format(col, normaltest(df[col])))"
   ],
   "metadata": {
    "collapsed": false,
    "pycharm": {
     "name": "#%%\n"
    }
   }
  },
  {
   "cell_type": "markdown",
   "source": [
    "*dropped* - лог-нормальное"
   ],
   "metadata": {
    "collapsed": false
   }
  },
  {
   "cell_type": "code",
   "execution_count": 13,
   "outputs": [
    {
     "name": "stdout",
     "output_type": "stream",
     "text": [
      "dropped - NormaltestResult(statistic=5.691571579104669, pvalue=0.058088603383628444)\n",
      "mean_score - NormaltestResult(statistic=31.232142255062726, pvalue=1.652062526621393e-07)\n",
      "on_hold - NormaltestResult(statistic=nan, pvalue=nan)\n",
      "age - NormaltestResult(statistic=14.37493218318834, pvalue=0.000756002336187681)\n"
     ]
    },
    {
     "name": "stderr",
     "output_type": "stream",
     "text": [
      "C:\\Python\\lib\\site-packages\\pandas\\core\\arraylike.py:364: RuntimeWarning: divide by zero encountered in log\n",
      "  result = getattr(ufunc, method)(*inputs, **kwargs)\n",
      "C:\\Python\\lib\\site-packages\\scipy\\stats\\stats.py:951: RuntimeWarning: invalid value encountered in subtract\n",
      "  a_zero_mean = a - mean\n"
     ]
    }
   ],
   "source": [
    "for col in df.columns:\n",
    "    if col == 'gender':\n",
    "        continue\n",
    "    print('{} - {}'.format(col, normaltest(np.log(df[col]))))"
   ],
   "metadata": {
    "collapsed": false,
    "pycharm": {
     "name": "#%%\n"
    }
   }
  },
  {
   "cell_type": "code",
   "execution_count": 14,
   "outputs": [],
   "source": [
    "df['dropped'] = np.log(df['dropped'])"
   ],
   "metadata": {
    "collapsed": false,
    "pycharm": {
     "name": "#%%\n"
    }
   }
  },
  {
   "cell_type": "markdown",
   "source": [
    "В итоге получаем 2 нормальных распределения."
   ],
   "metadata": {
    "collapsed": false
   }
  },
  {
   "cell_type": "code",
   "execution_count": 15,
   "outputs": [
    {
     "name": "stdout",
     "output_type": "stream",
     "text": [
      "dropped - NormaltestResult(statistic=5.691571579104669, pvalue=0.058088603383628444)\n",
      "mean_score - NormaltestResult(statistic=4.304210742842302, pvalue=0.11623917333881044)\n",
      "on_hold - NormaltestResult(statistic=1876.081810653158, pvalue=0.0)\n",
      "age - NormaltestResult(statistic=64.33470704970334, pvalue=1.0712624117191466e-14)\n"
     ]
    }
   ],
   "source": [
    "for col in df.columns:\n",
    "    if col == 'gender':\n",
    "        continue\n",
    "    print('{} - {}'.format(col, normaltest(df[col])))"
   ],
   "metadata": {
    "collapsed": false,
    "pycharm": {
     "name": "#%%\n"
    }
   }
  },
  {
   "cell_type": "markdown",
   "source": [
    "На всякий случай перед запуском глянем еще раз на корреляцию."
   ],
   "metadata": {
    "collapsed": false
   }
  },
  {
   "cell_type": "code",
   "execution_count": 16,
   "outputs": [
    {
     "data": {
      "text/plain": "<AxesSubplot:>"
     },
     "execution_count": 16,
     "metadata": {},
     "output_type": "execute_result"
    },
    {
     "data": {
      "text/plain": "<Figure size 432x288 with 2 Axes>",
      "image/png": "[encoded data removed]"
     },
     "metadata": {
      "needs_background": "light"
     },
     "output_type": "display_data"
    }
   ],
   "source": [
    "sns.heatmap(df.corr(), vmin=-1, vmax=1, annot=True)"
   ],
   "metadata": {
    "collapsed": false,
    "pycharm": {
     "name": "#%%\n"
    }
   }
  },
  {
   "cell_type": "markdown",
   "source": [
    "Все ок, теперь посмотрим на баланс классов."
   ],
   "metadata": {
    "collapsed": false
   }
  },
  {
   "cell_type": "code",
   "execution_count": 17,
   "outputs": [
    {
     "name": "stdout",
     "output_type": "stream",
     "text": [
      "(array(['Female', 'Male', 'Non-Binary'], dtype=object), array([213, 660,   7], dtype=int64))\n"
     ]
    },
    {
     "data": {
      "text/plain": "<Figure size 432x288 with 1 Axes>",
      "image/png": "[encoded data removed]"
     },
     "metadata": {
      "needs_background": "light"
     },
     "output_type": "display_data"
    }
   ],
   "source": [
    "print(np.unique(df.gender, return_counts=True))\n",
    "sns.countplot(x='gender', data=df);"
   ],
   "metadata": {
    "collapsed": false,
    "pycharm": {
     "name": "#%%\n"
    }
   }
  },
  {
   "cell_type": "markdown",
   "source": [
    "Правильнее конечно вынести ее в модуль, но для скорости проверки обьявим ее тут."
   ],
   "metadata": {
    "collapsed": false
   }
  },
  {
   "cell_type": "code",
   "execution_count": 18,
   "outputs": [],
   "source": [
    "def run(X_set : np.ndarray, y_set : np.ndarray):\n",
    "\n",
    "\n",
    "    # Инициализируем алгоритмы с параметрами по-умолчанию\n",
    "    knn_clf = KNeighborsClassifier()\n",
    "    svm_clf = SVC()\n",
    "    forest_clf = RandomForestClassifier()\n",
    "\n",
    "    # Посчитаем метрику качества используя кросс-валидацию, использую скорер который будет учитывать веса:\n",
    "    \"\"\" ``'weighted'``:\n",
    "    Calculate metrics for each label, and find their average weighted\n",
    "    by support (the number of true instances for each label). This\n",
    "    alters 'macro' to account for label imbalance; it can result in an\n",
    "    F-score that is not between precision and recall.\"\"\"\n",
    "\n",
    "    knn_acc_score = cross_val_score(knn_clf, X_set, y_set, scoring=make_scorer(f1_score, average='weighted')).mean()\n",
    "    svm_acc_score = cross_val_score(svm_clf, X_set, y_set, scoring=make_scorer(f1_score, average='weighted')).mean()\n",
    "    forest_acc_score = cross_val_score(forest_clf, X_set, y_set, scoring=make_scorer(f1_score, average='weighted')).mean()\n",
    "\n",
    "    # knn_acc_score = cross_val_score(knn_clf, X, y).mean()\n",
    "    # svm_acc_score = cross_val_score(svm_clf, X, y).mean()\n",
    "    # forest_acc_score = cross_val_score(forest_clf, X, y).mean()\n",
    "\n",
    "    # Выведем алгоритмы по убыванию качества их работы\n",
    "    leaderboard = sorted([\n",
    "        ('KNN', knn_acc_score),\n",
    "        ('SVC', svm_acc_score),\n",
    "        ('Forest', forest_acc_score),\n",
    "    ], key=lambda pair: pair[1], reverse=True)\n",
    "\n",
    "    print('Leaderboard:')\n",
    "    for idx, (leader_name, leader_score) in enumerate(leaderboard):\n",
    "        print(f'{idx + 1}. {leader_name}: {leader_score}')"
   ],
   "metadata": {
    "collapsed": false,
    "pycharm": {
     "name": "#%%\n"
    }
   }
  },
  {
   "cell_type": "markdown",
   "source": [
    "Посмотрим как оно работает с полом."
   ],
   "metadata": {
    "collapsed": false
   }
  },
  {
   "cell_type": "code",
   "execution_count": 19,
   "outputs": [
    {
     "name": "stdout",
     "output_type": "stream",
     "text": [
      "Type X: <class 'pandas.core.frame.DataFrame'>, X shape: (880, 4)\n",
      "Type y: <class 'pandas.core.series.Series'>, y shape: (880,)\n"
     ]
    },
    {
     "name": "stderr",
     "output_type": "stream",
     "text": [
      "C:\\Python\\lib\\site-packages\\sklearn\\base.py:441: UserWarning: X does not have valid feature names, but KNeighborsClassifier was fitted with feature names\n",
      "  warnings.warn(\n",
      "C:\\Python\\lib\\site-packages\\sklearn\\base.py:441: UserWarning: X does not have valid feature names, but KNeighborsClassifier was fitted with feature names\n",
      "  warnings.warn(\n",
      "C:\\Python\\lib\\site-packages\\sklearn\\base.py:441: UserWarning: X does not have valid feature names, but KNeighborsClassifier was fitted with feature names\n",
      "  warnings.warn(\n",
      "C:\\Python\\lib\\site-packages\\sklearn\\base.py:441: UserWarning: X does not have valid feature names, but KNeighborsClassifier was fitted with feature names\n",
      "  warnings.warn(\n",
      "C:\\Python\\lib\\site-packages\\sklearn\\base.py:441: UserWarning: X does not have valid feature names, but KNeighborsClassifier was fitted with feature names\n",
      "  warnings.warn(\n"
     ]
    },
    {
     "name": "stdout",
     "output_type": "stream",
     "text": [
      "Leaderboard:\n",
      "1. KNN: 0.6654926903104534\n",
      "2. Forest: 0.6553463204893394\n",
      "3. SVC: 0.6428571428571428\n"
     ]
    }
   ],
   "source": [
    "X = df.drop(['gender'], axis=1)\n",
    "y = df['gender']\n",
    "y = np.squeeze(y)\n",
    "\n",
    "print(f'Type X: {type(X)}, X shape: {X.shape}')\n",
    "print(f'Type y: {type(y)}, y shape: {y.shape}')\n",
    "run(X, y)"
   ],
   "metadata": {
    "collapsed": false,
    "pycharm": {
     "name": "#%%\n"
    }
   }
  },
  {
   "cell_type": "markdown",
   "source": [
    "Впринципе сойдет."
   ],
   "metadata": {
    "collapsed": false
   }
  },
  {
   "cell_type": "markdown",
   "source": [
    "Теперь попробуем предсказать возраст."
   ],
   "metadata": {
    "collapsed": false
   }
  },
  {
   "cell_type": "code",
   "execution_count": 20,
   "outputs": [],
   "source": [
    "def get_gender(gender : str) -> int:\n",
    "    if gender == 'Male':\n",
    "        return 1\n",
    "    if gender == 'Female':\n",
    "        return 2\n",
    "    return 0\n",
    "\n",
    "def get_age(age: int) -> str:\n",
    "    if age < 18:\n",
    "        return 'underage'\n",
    "    if age < 35:\n",
    "        return 'adult'\n",
    "    return 'mature'\n",
    "\n",
    "new_df = df\n",
    "new_df['gender'] = new_df['gender'].apply(get_gender)\n",
    "\n",
    "new_df['age'] = new_df['age'].apply(get_age)"
   ],
   "metadata": {
    "collapsed": false,
    "pycharm": {
     "name": "#%%\n"
    }
   }
  },
  {
   "cell_type": "markdown",
   "source": [
    "Баланс такой себе."
   ],
   "metadata": {
    "collapsed": false
   }
  },
  {
   "cell_type": "code",
   "execution_count": 21,
   "outputs": [
    {
     "name": "stdout",
     "output_type": "stream",
     "text": [
      "(array(['adult', 'mature', 'underage'], dtype=object), array([809,  12,  59], dtype=int64))\n"
     ]
    },
    {
     "data": {
      "text/plain": "<Figure size 432x288 with 1 Axes>",
      "image/png": "[encoded data removed]"
     },
     "metadata": {
      "needs_background": "light"
     },
     "output_type": "display_data"
    }
   ],
   "source": [
    "print(np.unique(new_df.age, return_counts=True))\n",
    "sns.countplot(x='age', data=new_df);"
   ],
   "metadata": {
    "collapsed": false,
    "pycharm": {
     "name": "#%%\n"
    }
   }
  },
  {
   "cell_type": "markdown",
   "source": [
    "Гендер тоже ни с чем не коррелирует."
   ],
   "metadata": {
    "collapsed": false
   }
  },
  {
   "cell_type": "code",
   "execution_count": 22,
   "outputs": [
    {
     "data": {
      "text/plain": "<AxesSubplot:>"
     },
     "execution_count": 22,
     "metadata": {},
     "output_type": "execute_result"
    },
    {
     "data": {
      "text/plain": "<Figure size 432x288 with 2 Axes>",
      "image/png": "[encoded data removed]"
     },
     "metadata": {
      "needs_background": "light"
     },
     "output_type": "display_data"
    }
   ],
   "source": [
    "sns.heatmap(df.corr(), vmin=-1, vmax=1, annot=True)"
   ],
   "metadata": {
    "collapsed": false,
    "pycharm": {
     "name": "#%%\n"
    }
   }
  },
  {
   "cell_type": "markdown",
   "source": [
    "Результаты конечно хорошие, но даже не смотря на то что скорер учитывает баланс, всеравно вряд ли мы получим таки же хорошие результаты на другом наборе данных."
   ],
   "metadata": {
    "collapsed": false
   }
  },
  {
   "cell_type": "code",
   "execution_count": 23,
   "outputs": [
    {
     "name": "stdout",
     "output_type": "stream",
     "text": [
      "Type X: <class 'pandas.core.frame.DataFrame'>, X shape: (880, 4)\n",
      "Type y: <class 'pandas.core.series.Series'>, y shape: (880,)\n"
     ]
    },
    {
     "name": "stderr",
     "output_type": "stream",
     "text": [
      "C:\\Python\\lib\\site-packages\\sklearn\\base.py:441: UserWarning: X does not have valid feature names, but KNeighborsClassifier was fitted with feature names\n",
      "  warnings.warn(\n",
      "C:\\Python\\lib\\site-packages\\sklearn\\base.py:441: UserWarning: X does not have valid feature names, but KNeighborsClassifier was fitted with feature names\n",
      "  warnings.warn(\n",
      "C:\\Python\\lib\\site-packages\\sklearn\\base.py:441: UserWarning: X does not have valid feature names, but KNeighborsClassifier was fitted with feature names\n",
      "  warnings.warn(\n",
      "C:\\Python\\lib\\site-packages\\sklearn\\base.py:441: UserWarning: X does not have valid feature names, but KNeighborsClassifier was fitted with feature names\n",
      "  warnings.warn(\n",
      "C:\\Python\\lib\\site-packages\\sklearn\\base.py:441: UserWarning: X does not have valid feature names, but KNeighborsClassifier was fitted with feature names\n",
      "  warnings.warn(\n"
     ]
    },
    {
     "name": "stdout",
     "output_type": "stream",
     "text": [
      "Leaderboard:\n",
      "1. SVC: 0.8806745354622552\n",
      "2. KNN: 0.8801056453247733\n",
      "3. Forest: 0.8794279255019714\n"
     ]
    }
   ],
   "source": [
    "X = new_df.drop(['age'], axis=1)\n",
    "y = new_df['age']\n",
    "y = np.squeeze(y)\n",
    "\n",
    "print(f'Type X: {type(X)}, X shape: {X.shape}')\n",
    "print(f'Type y: {type(y)}, y shape: {y.shape}')\n",
    "run(X, y)"
   ],
   "metadata": {
    "collapsed": false,
    "pycharm": {
     "name": "#%%\n"
    }
   }
  }
 ],
 "metadata": {
  "kernelspec": {
   "display_name": "Python 3",
   "language": "python",
   "name": "python3"
  },
  "language_info": {
   "codemirror_mode": {
    "name": "ipython",
    "version": 2
   },
   "file_extension": ".py",
   "mimetype": "text/x-python",
   "name": "python",
   "nbconvert_exporter": "python",
   "pygments_lexer": "ipython2",
   "version": "2.7.6"
  }
 },
 "nbformat": 4,
 "nbformat_minor": 0
}